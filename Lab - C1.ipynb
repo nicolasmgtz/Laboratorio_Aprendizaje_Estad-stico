{
 "cells": [
  {
   "cell_type": "markdown",
   "id": "c191c972-2c85-4284-a555-7db618ba5b26",
   "metadata": {},
   "source": [
    "# Laboratorio de regresión logística"
   ]
  },
  {
   "cell_type": "markdown",
   "id": "e11c177c-1848-44b0-8c6b-b35537b5ae2f",
   "metadata": {},
   "source": [
    "|                |   |\n",
    ":----------------|---|\n",
    "| **Nombre**     | Nicolás Martínez Gutiérrez  |\n",
    "| **Fecha**      |  04/10/2025 |\n",
    "| **Expediente** |  751743 | "
   ]
  },
  {
   "cell_type": "markdown",
   "id": "c4f75ddf-058d-4e10-8a53-bf1b4874e1fa",
   "metadata": {},
   "source": [
    "La regresión logística es una herramienta utilizada para predecir respuestas cualitativas. Al igual que la regresión lineal, es un método sencillo que sirve como un punto de partida para técnicas más avanzadas. Por ejemplo, lo que se conoce como *redes neuronales* o *red de perceptrones multicapa* no es más que una estructura de regresiones logísticas que se alimentan entre sí."
   ]
  },
  {
   "cell_type": "markdown",
   "id": "7aca8491-9d65-4f36-86c5-60b58282c56b",
   "metadata": {},
   "source": [
    "1. Descarga el archivo de créditos y carga los datos (Default.csv). Utiliza `pandas`."
   ]
  },
  {
   "cell_type": "code",
   "execution_count": 57,
   "id": "cf337cda-782d-41e3-9a27-15abe95121ad",
   "metadata": {},
   "outputs": [],
   "source": [
    "import pandas as pd\n",
    "data = pd.read_csv(\"Default.csv\")"
   ]
  },
  {
   "cell_type": "code",
   "execution_count": 58,
   "id": "f9771c6b-1fcc-4413-9c75-f41fdd2cf892",
   "metadata": {},
   "outputs": [
    {
     "data": {
      "text/html": [
       "<div>\n",
       "<style scoped>\n",
       "    .dataframe tbody tr th:only-of-type {\n",
       "        vertical-align: middle;\n",
       "    }\n",
       "\n",
       "    .dataframe tbody tr th {\n",
       "        vertical-align: top;\n",
       "    }\n",
       "\n",
       "    .dataframe thead th {\n",
       "        text-align: right;\n",
       "    }\n",
       "</style>\n",
       "<table border=\"1\" class=\"dataframe\">\n",
       "  <thead>\n",
       "    <tr style=\"text-align: right;\">\n",
       "      <th></th>\n",
       "      <th>balance</th>\n",
       "      <th>income</th>\n",
       "    </tr>\n",
       "  </thead>\n",
       "  <tbody>\n",
       "    <tr>\n",
       "      <th>count</th>\n",
       "      <td>10000.000000</td>\n",
       "      <td>10000.000000</td>\n",
       "    </tr>\n",
       "    <tr>\n",
       "      <th>mean</th>\n",
       "      <td>835.374886</td>\n",
       "      <td>33516.981876</td>\n",
       "    </tr>\n",
       "    <tr>\n",
       "      <th>std</th>\n",
       "      <td>483.714985</td>\n",
       "      <td>13336.639563</td>\n",
       "    </tr>\n",
       "    <tr>\n",
       "      <th>min</th>\n",
       "      <td>0.000000</td>\n",
       "      <td>771.967729</td>\n",
       "    </tr>\n",
       "    <tr>\n",
       "      <th>25%</th>\n",
       "      <td>481.731105</td>\n",
       "      <td>21340.462903</td>\n",
       "    </tr>\n",
       "    <tr>\n",
       "      <th>50%</th>\n",
       "      <td>823.636973</td>\n",
       "      <td>34552.644802</td>\n",
       "    </tr>\n",
       "    <tr>\n",
       "      <th>75%</th>\n",
       "      <td>1166.308386</td>\n",
       "      <td>43807.729275</td>\n",
       "    </tr>\n",
       "    <tr>\n",
       "      <th>max</th>\n",
       "      <td>2654.322576</td>\n",
       "      <td>73554.233500</td>\n",
       "    </tr>\n",
       "  </tbody>\n",
       "</table>\n",
       "</div>"
      ],
      "text/plain": [
       "            balance        income\n",
       "count  10000.000000  10000.000000\n",
       "mean     835.374886  33516.981876\n",
       "std      483.714985  13336.639563\n",
       "min        0.000000    771.967729\n",
       "25%      481.731105  21340.462903\n",
       "50%      823.636973  34552.644802\n",
       "75%     1166.308386  43807.729275\n",
       "max     2654.322576  73554.233500"
      ]
     },
     "execution_count": 58,
     "metadata": {},
     "output_type": "execute_result"
    }
   ],
   "source": [
    "data.describe()"
   ]
  },
  {
   "cell_type": "code",
   "execution_count": 59,
   "id": "582dd548-3fd2-4421-b147-3c251dd5a201",
   "metadata": {},
   "outputs": [
    {
     "data": {
      "text/html": [
       "<div>\n",
       "<style scoped>\n",
       "    .dataframe tbody tr th:only-of-type {\n",
       "        vertical-align: middle;\n",
       "    }\n",
       "\n",
       "    .dataframe tbody tr th {\n",
       "        vertical-align: top;\n",
       "    }\n",
       "\n",
       "    .dataframe thead th {\n",
       "        text-align: right;\n",
       "    }\n",
       "</style>\n",
       "<table border=\"1\" class=\"dataframe\">\n",
       "  <thead>\n",
       "    <tr style=\"text-align: right;\">\n",
       "      <th></th>\n",
       "      <th>default</th>\n",
       "      <th>student</th>\n",
       "      <th>balance</th>\n",
       "      <th>income</th>\n",
       "    </tr>\n",
       "  </thead>\n",
       "  <tbody>\n",
       "    <tr>\n",
       "      <th>0</th>\n",
       "      <td>False</td>\n",
       "      <td>False</td>\n",
       "      <td>False</td>\n",
       "      <td>False</td>\n",
       "    </tr>\n",
       "    <tr>\n",
       "      <th>1</th>\n",
       "      <td>False</td>\n",
       "      <td>False</td>\n",
       "      <td>False</td>\n",
       "      <td>False</td>\n",
       "    </tr>\n",
       "    <tr>\n",
       "      <th>2</th>\n",
       "      <td>False</td>\n",
       "      <td>False</td>\n",
       "      <td>False</td>\n",
       "      <td>False</td>\n",
       "    </tr>\n",
       "    <tr>\n",
       "      <th>3</th>\n",
       "      <td>False</td>\n",
       "      <td>False</td>\n",
       "      <td>False</td>\n",
       "      <td>False</td>\n",
       "    </tr>\n",
       "    <tr>\n",
       "      <th>4</th>\n",
       "      <td>False</td>\n",
       "      <td>False</td>\n",
       "      <td>False</td>\n",
       "      <td>False</td>\n",
       "    </tr>\n",
       "    <tr>\n",
       "      <th>...</th>\n",
       "      <td>...</td>\n",
       "      <td>...</td>\n",
       "      <td>...</td>\n",
       "      <td>...</td>\n",
       "    </tr>\n",
       "    <tr>\n",
       "      <th>9995</th>\n",
       "      <td>False</td>\n",
       "      <td>False</td>\n",
       "      <td>False</td>\n",
       "      <td>False</td>\n",
       "    </tr>\n",
       "    <tr>\n",
       "      <th>9996</th>\n",
       "      <td>False</td>\n",
       "      <td>False</td>\n",
       "      <td>False</td>\n",
       "      <td>False</td>\n",
       "    </tr>\n",
       "    <tr>\n",
       "      <th>9997</th>\n",
       "      <td>False</td>\n",
       "      <td>False</td>\n",
       "      <td>False</td>\n",
       "      <td>False</td>\n",
       "    </tr>\n",
       "    <tr>\n",
       "      <th>9998</th>\n",
       "      <td>False</td>\n",
       "      <td>False</td>\n",
       "      <td>False</td>\n",
       "      <td>False</td>\n",
       "    </tr>\n",
       "    <tr>\n",
       "      <th>9999</th>\n",
       "      <td>False</td>\n",
       "      <td>False</td>\n",
       "      <td>False</td>\n",
       "      <td>False</td>\n",
       "    </tr>\n",
       "  </tbody>\n",
       "</table>\n",
       "<p>10000 rows × 4 columns</p>\n",
       "</div>"
      ],
      "text/plain": [
       "      default  student  balance  income\n",
       "0       False    False    False   False\n",
       "1       False    False    False   False\n",
       "2       False    False    False   False\n",
       "3       False    False    False   False\n",
       "4       False    False    False   False\n",
       "...       ...      ...      ...     ...\n",
       "9995    False    False    False   False\n",
       "9996    False    False    False   False\n",
       "9997    False    False    False   False\n",
       "9998    False    False    False   False\n",
       "9999    False    False    False   False\n",
       "\n",
       "[10000 rows x 4 columns]"
      ]
     },
     "execution_count": 59,
     "metadata": {},
     "output_type": "execute_result"
    }
   ],
   "source": [
    "data.isnull()"
   ]
  },
  {
   "cell_type": "markdown",
   "id": "65b9bbd4-2e26-44b3-8842-a992c7da7374",
   "metadata": {},
   "source": [
    "2. Utiliza el comando `obj.head()`, donde `obj` es el nombre que le diste a los datos del archivo."
   ]
  },
  {
   "cell_type": "code",
   "execution_count": 60,
   "id": "523807f3-b35f-45f8-bf81-a1dd5f63e7a6",
   "metadata": {},
   "outputs": [
    {
     "data": {
      "text/html": [
       "<div>\n",
       "<style scoped>\n",
       "    .dataframe tbody tr th:only-of-type {\n",
       "        vertical-align: middle;\n",
       "    }\n",
       "\n",
       "    .dataframe tbody tr th {\n",
       "        vertical-align: top;\n",
       "    }\n",
       "\n",
       "    .dataframe thead th {\n",
       "        text-align: right;\n",
       "    }\n",
       "</style>\n",
       "<table border=\"1\" class=\"dataframe\">\n",
       "  <thead>\n",
       "    <tr style=\"text-align: right;\">\n",
       "      <th></th>\n",
       "      <th>default</th>\n",
       "      <th>student</th>\n",
       "      <th>balance</th>\n",
       "      <th>income</th>\n",
       "    </tr>\n",
       "  </thead>\n",
       "  <tbody>\n",
       "    <tr>\n",
       "      <th>0</th>\n",
       "      <td>No</td>\n",
       "      <td>No</td>\n",
       "      <td>729.526495</td>\n",
       "      <td>44361.625074</td>\n",
       "    </tr>\n",
       "    <tr>\n",
       "      <th>1</th>\n",
       "      <td>No</td>\n",
       "      <td>Yes</td>\n",
       "      <td>817.180407</td>\n",
       "      <td>12106.134700</td>\n",
       "    </tr>\n",
       "    <tr>\n",
       "      <th>2</th>\n",
       "      <td>No</td>\n",
       "      <td>No</td>\n",
       "      <td>1073.549164</td>\n",
       "      <td>31767.138950</td>\n",
       "    </tr>\n",
       "    <tr>\n",
       "      <th>3</th>\n",
       "      <td>No</td>\n",
       "      <td>No</td>\n",
       "      <td>529.250605</td>\n",
       "      <td>35704.493940</td>\n",
       "    </tr>\n",
       "    <tr>\n",
       "      <th>4</th>\n",
       "      <td>No</td>\n",
       "      <td>No</td>\n",
       "      <td>785.655883</td>\n",
       "      <td>38463.495880</td>\n",
       "    </tr>\n",
       "  </tbody>\n",
       "</table>\n",
       "</div>"
      ],
      "text/plain": [
       "  default student      balance        income\n",
       "0      No      No   729.526495  44361.625074\n",
       "1      No     Yes   817.180407  12106.134700\n",
       "2      No      No  1073.549164  31767.138950\n",
       "3      No      No   529.250605  35704.493940\n",
       "4      No      No   785.655883  38463.495880"
      ]
     },
     "execution_count": 60,
     "metadata": {},
     "output_type": "execute_result"
    }
   ],
   "source": [
    "data.head()"
   ]
  },
  {
   "cell_type": "code",
   "execution_count": null,
   "id": "b09c3f99-5e86-422a-a363-64d334cf94c2",
   "metadata": {},
   "outputs": [],
   "source": []
  },
  {
   "cell_type": "code",
   "execution_count": null,
   "id": "b9bf0fce-f20b-438c-aecd-6ce10bdbdf07",
   "metadata": {},
   "outputs": [],
   "source": []
  },
  {
   "cell_type": "markdown",
   "id": "15c04d29-f53e-4abc-be36-84fcd4ec5f0d",
   "metadata": {},
   "source": [
    "El comando head arroja los primeras *n* líneas (por defecto 5) de los datos que están en el DataFrame.\n",
    "\n",
    "3. Utiliza el comando `obj.describe()`."
   ]
  },
  {
   "cell_type": "code",
   "execution_count": 61,
   "id": "d9500b33-6d04-4322-bebe-08fa02305429",
   "metadata": {},
   "outputs": [
    {
     "data": {
      "text/html": [
       "<div>\n",
       "<style scoped>\n",
       "    .dataframe tbody tr th:only-of-type {\n",
       "        vertical-align: middle;\n",
       "    }\n",
       "\n",
       "    .dataframe tbody tr th {\n",
       "        vertical-align: top;\n",
       "    }\n",
       "\n",
       "    .dataframe thead th {\n",
       "        text-align: right;\n",
       "    }\n",
       "</style>\n",
       "<table border=\"1\" class=\"dataframe\">\n",
       "  <thead>\n",
       "    <tr style=\"text-align: right;\">\n",
       "      <th></th>\n",
       "      <th>balance</th>\n",
       "      <th>income</th>\n",
       "    </tr>\n",
       "  </thead>\n",
       "  <tbody>\n",
       "    <tr>\n",
       "      <th>count</th>\n",
       "      <td>10000.000000</td>\n",
       "      <td>10000.000000</td>\n",
       "    </tr>\n",
       "    <tr>\n",
       "      <th>mean</th>\n",
       "      <td>835.374886</td>\n",
       "      <td>33516.981876</td>\n",
       "    </tr>\n",
       "    <tr>\n",
       "      <th>std</th>\n",
       "      <td>483.714985</td>\n",
       "      <td>13336.639563</td>\n",
       "    </tr>\n",
       "    <tr>\n",
       "      <th>min</th>\n",
       "      <td>0.000000</td>\n",
       "      <td>771.967729</td>\n",
       "    </tr>\n",
       "    <tr>\n",
       "      <th>25%</th>\n",
       "      <td>481.731105</td>\n",
       "      <td>21340.462903</td>\n",
       "    </tr>\n",
       "    <tr>\n",
       "      <th>50%</th>\n",
       "      <td>823.636973</td>\n",
       "      <td>34552.644802</td>\n",
       "    </tr>\n",
       "    <tr>\n",
       "      <th>75%</th>\n",
       "      <td>1166.308386</td>\n",
       "      <td>43807.729275</td>\n",
       "    </tr>\n",
       "    <tr>\n",
       "      <th>max</th>\n",
       "      <td>2654.322576</td>\n",
       "      <td>73554.233500</td>\n",
       "    </tr>\n",
       "  </tbody>\n",
       "</table>\n",
       "</div>"
      ],
      "text/plain": [
       "            balance        income\n",
       "count  10000.000000  10000.000000\n",
       "mean     835.374886  33516.981876\n",
       "std      483.714985  13336.639563\n",
       "min        0.000000    771.967729\n",
       "25%      481.731105  21340.462903\n",
       "50%      823.636973  34552.644802\n",
       "75%     1166.308386  43807.729275\n",
       "max     2654.322576  73554.233500"
      ]
     },
     "execution_count": 61,
     "metadata": {},
     "output_type": "execute_result"
    }
   ],
   "source": [
    "data.describe()"
   ]
  },
  {
   "cell_type": "code",
   "execution_count": null,
   "id": "643e5d7b-4a56-442b-9706-1732bf3e99a0",
   "metadata": {},
   "outputs": [],
   "source": []
  },
  {
   "cell_type": "code",
   "execution_count": null,
   "id": "060c28af-fec5-4cff-929a-8a9586aabf0d",
   "metadata": {},
   "outputs": [],
   "source": []
  },
  {
   "cell_type": "markdown",
   "id": "d0bddd85-1291-4b86-ac54-08579009eaad",
   "metadata": {},
   "source": [
    "El comando describe toma las columnas que tienen datos numéricos y saca datos estadísticos comunes:\n",
    "- *n*\n",
    "- media\n",
    "- desviación estándar\n",
    "- valor mínimo\n",
    "- primer cuartil\n",
    "- mediana\n",
    "- tercer cuartil\n",
    "- valor máximo\n",
    "\n",
    "3. Vistos estos datos, ¿qué columnas existen en el DataFrame? ¿Qué tipo de datos contienen?"
   ]
  },
  {
   "cell_type": "markdown",
   "id": "be36451d-c633-4ff5-8973-5aabb455e467",
   "metadata": {},
   "source": [
    "Las columnas balance e income son numéricas y aparecen en el resumen estadístico (describe())."
   ]
  },
  {
   "cell_type": "markdown",
   "id": "815fb698-119d-4d30-b1a7-83a6f9a5c00a",
   "metadata": {},
   "source": [
    "Las columnas default y student son categóricas (tipo object), por eso no aparecen en la tabla estadística."
   ]
  },
  {
   "cell_type": "markdown",
   "id": "250e1819-a2b8-4ae9-86c6-533ae4c2aa36",
   "metadata": {},
   "source": []
  },
  {
   "cell_type": "markdown",
   "id": "d647ca4b-012f-4b9e-a062-6484f2fdb2c8",
   "metadata": {},
   "source": [
    "4. Configura el tipo de dato de las columnas `default` y `student` para cambiarlos a variables categóricas.\n",
    "\n",
    "`data[columna] = data[columna].astype(\"category\")`"
   ]
  },
  {
   "cell_type": "code",
   "execution_count": 62,
   "id": "1ca68e38-8821-4a7b-96de-20f4209a2c84",
   "metadata": {},
   "outputs": [],
   "source": [
    "data[\"default\"] = data[\"default\"].astype(\"category\")\n",
    "data[\"student\"] = data[\"student\"].astype(\"category\")"
   ]
  },
  {
   "cell_type": "code",
   "execution_count": null,
   "id": "079e5d10-4a2a-470d-97b1-5b06f6b060ad",
   "metadata": {},
   "outputs": [],
   "source": []
  },
  {
   "cell_type": "code",
   "execution_count": null,
   "id": "3f5c9895-5023-4379-9999-d2218a64ff56",
   "metadata": {},
   "outputs": [],
   "source": []
  },
  {
   "cell_type": "markdown",
   "id": "ab653f15-e6c1-418f-8b78-4e4cb34c8380",
   "metadata": {},
   "source": [
    "Imagina que trabajas en un banco y que se te entregan estos datos. Tu objetivo es crear un modelo que ayude a predecir si una persona que solicita un crédito lo va a pagar. Exploremos los datos un poco más antes de crear un modelo.\n",
    "\n",
    "Veamos primero cómo es la distribución de los valores cuando una persona dejó de pagar y cuando siguió pagando. `Default` es el término utilizado para cuando una persona dejó de pagar.\n",
    "\n",
    "5. Crea una gráfica de caja para las columnas `income` y `balance`, con los datos agrupados con la columna `default`. Utiliza el comando `obj.boxplot(column=____, by=_____)`"
   ]
  },
  {
   "cell_type": "code",
   "execution_count": 63,
   "id": "546de528-d1b8-442b-9aec-e6be74bdbfbf",
   "metadata": {},
   "outputs": [
    {
     "data": {
      "text/plain": [
       "<Axes: title={'center': 'income'}, xlabel='default'>"
      ]
     },
     "execution_count": 63,
     "metadata": {},
     "output_type": "execute_result"
    },
    {
     "data": {
      "image/png": "[encoded data removed]",
      "text/plain": [
       "<Figure size 640x480 with 1 Axes>"
      ]
     },
     "metadata": {},
     "output_type": "display_data"
    }
   ],
   "source": [
    "data.boxplot(column=\"income\", by=\"default\")"
   ]
  },
  {
   "cell_type": "code",
   "execution_count": 64,
   "id": "4388e93e-be93-4db7-b0ce-1cd946432a07",
   "metadata": {},
   "outputs": [
    {
     "data": {
      "text/plain": [
       "<Axes: title={'center': 'balance'}, xlabel='default'>"
      ]
     },
     "execution_count": 64,
     "metadata": {},
     "output_type": "execute_result"
    },
    {
     "data": {
      "image/png": "[encoded data removed]",
      "text/plain": [
       "<Figure size 640x480 with 1 Axes>"
      ]
     },
     "metadata": {},
     "output_type": "display_data"
    }
   ],
   "source": [
    "data.boxplot(column=\"balance\", by=\"default\")"
   ]
  },
  {
   "cell_type": "code",
   "execution_count": null,
   "id": "3149fb97-f0db-44c5-9927-971161dd3751",
   "metadata": {},
   "outputs": [],
   "source": []
  },
  {
   "cell_type": "markdown",
   "id": "ebb61978-5302-4b07-b20a-603b429f874b",
   "metadata": {},
   "source": [
    "6. Crea una gráfica de dispersión donde el eje *x* sea la columna `balance` y el eje *y* la columna `income`. Utiliza el comando `obj.plot.scatter(x, y, c=\"default\", colormap=\"PiYG_r\", alpha=0.5)`."
   ]
  },
  {
   "cell_type": "code",
   "execution_count": 65,
   "id": "1008ae54-6a73-442d-9598-2a2dfdb807a5",
   "metadata": {},
   "outputs": [
    {
     "data": {
      "text/plain": [
       "<Axes: xlabel='balance', ylabel='income'>"
      ]
     },
     "execution_count": 65,
     "metadata": {},
     "output_type": "execute_result"
    },
    {
     "data": {
      "image/png": "[encoded data removed]",
      "text/plain": [
       "<Figure size 640x480 with 2 Axes>"
      ]
     },
     "metadata": {},
     "output_type": "display_data"
    }
   ],
   "source": [
    "data.plot.scatter(\n",
    "    x=\"balance\",\n",
    "    y=\"income\",\n",
    "    c=\"default\",\n",
    "    colormap=\"PiYG_r\",\n",
    "    alpha=0.5\n",
    ")"
   ]
  },
  {
   "cell_type": "code",
   "execution_count": null,
   "id": "ea5d596a-5dea-46d3-aa10-fb3e47a34a28",
   "metadata": {},
   "outputs": [],
   "source": []
  },
  {
   "cell_type": "code",
   "execution_count": null,
   "id": "ca72041b-1f94-46e0-bea9-c6b3a571728b",
   "metadata": {},
   "outputs": [],
   "source": []
  },
  {
   "cell_type": "markdown",
   "id": "49f3bb3e-5ba5-405f-9cfd-08a944f3a142",
   "metadata": {},
   "source": [
    "La regresión (lineal o logística) se usa para encontrar una línea que ajuste los datos para tomar una decisión. La línea que buscamos en regresión logística es aquella que nos ayude a separar las diferentes categorías. \n",
    "\n",
    "<img style=\"float: left; \" src=\"https://www.baeldung.com/wp-content/uploads/sites/4/2023/10/decision_boundary_curve.jpg\" width=\"400px\" />\n"
   ]
  },
  {
   "cell_type": "markdown",
   "id": "d04c4af0-ccb8-4174-b388-6260f4f206ed",
   "metadata": {},
   "source": [
    "## Regresión logística simple"
   ]
  },
  {
   "cell_type": "markdown",
   "id": "8479721f-877b-4c4f-abc1-1da69b8520eb",
   "metadata": {},
   "source": [
    "Creemos un modelo simple donde sólo utilizamos una de los factores para predecir una respuesta. Quiero conocer la probabilidad de que una persona deje de pagar su crédito dado el balance que tiene en su cuenta.\n",
    "\n",
    "$$ P(\\text{default}=\\text{Yes}|\\text{balance}) $$"
   ]
  },
  {
   "cell_type": "markdown",
   "id": "3cb24746-3fc3-444b-b7f4-0427a79eafc4",
   "metadata": {},
   "source": [
    "Por el momento la columna default no contiene valores numéricos, por lo que hay que transformar los datos. Como default es nuestra variable de respuesta (lo que queremos predecir) podemos nombrarla *y*.\n",
    "\n",
    "Ejecuta el código `y = obj[\"default\"] == \"Yes\"`. Extrae el factor `balance` en una variable *x*."
   ]
  },
  {
   "cell_type": "code",
   "execution_count": 66,
   "id": "c5f7d3df-a374-433a-bcf7-4c2e59cf2491",
   "metadata": {},
   "outputs": [],
   "source": [
    "y = data[\"default\"] == \"Yes\"\n",
    "x = data[\"balance\"]"
   ]
  },
  {
   "cell_type": "code",
   "execution_count": null,
   "id": "65959f38-4f3c-462a-a5c3-211306b3a035",
   "metadata": {},
   "outputs": [],
   "source": []
  },
  {
   "cell_type": "code",
   "execution_count": null,
   "id": "0e99db8a-e858-4a03-b806-f411473209a4",
   "metadata": {},
   "outputs": [],
   "source": []
  },
  {
   "cell_type": "markdown",
   "id": "979a233e-fb64-4051-8a1f-aa9143c2ad1e",
   "metadata": {},
   "source": [
    "Crea un gráfico de dispersión donde el eje *x* sea `balance` y el eje *y* sea `default` transformado."
   ]
  },
  {
   "cell_type": "code",
   "execution_count": 67,
   "id": "2ce5350c-96c8-499c-9d4e-0e48f34b3198",
   "metadata": {},
   "outputs": [
    {
     "data": {
      "text/plain": [
       "<matplotlib.collections.PathCollection at 0x1a1ce071e50>"
      ]
     },
     "execution_count": 67,
     "metadata": {},
     "output_type": "execute_result"
    },
    {
     "data": {
      "image/png": "[encoded data removed]",
      "text/plain": [
       "<Figure size 640x480 with 1 Axes>"
      ]
     },
     "metadata": {},
     "output_type": "display_data"
    }
   ],
   "source": [
    "import matplotlib.pyplot as plt\n",
    "plt.scatter(data[\"balance\"], (data[\"default\"] == \"Yes\").astype(int), alpha=0.5, color=\"purple\")"
   ]
  },
  {
   "cell_type": "code",
   "execution_count": null,
   "id": "45d807f5-d835-4b87-a95d-0fe236df5116",
   "metadata": {},
   "outputs": [],
   "source": []
  },
  {
   "cell_type": "markdown",
   "id": "4d2f52fe-f647-420a-bc8d-98854ce647eb",
   "metadata": {},
   "source": [
    "La línea que utilizaremos para predecir la probabilidad es:\n",
    "\n",
    "$$ p(x) = \\frac{1}{1 + e^{-(\\beta_0 + \\beta_1 x)}} $$\n",
    "\n",
    "Para nuestro ejemplo de pagos y balance:\n",
    "\n",
    "$$ P(\\text{default}=1|\\text{balance}) = \\frac{1}{1 + e^{-(\\beta_0 + \\beta_1  \\text{balance})}} $$"
   ]
  },
  {
   "cell_type": "markdown",
   "id": "867bbcf8-3287-4f69-b396-1bc891e3d4b4",
   "metadata": {},
   "source": [
    "Buscamos maximizar la probabilidad de que el modelo tome decisiones correctas. Es decir, que cuando `default` fue verdadero, que la predicción sea 100%, y que cuando `default` fue falso que la predicción sea 0%.\n",
    "\n",
    "$$ \\Pi_{i:y_i=1} p(x_i) \\Pi_{i':y_{i'}} (1-p(x_{i'})) $$"
   ]
  },
  {
   "cell_type": "markdown",
   "id": "2548f26c-4608-45f6-974c-76dd9ff9ce10",
   "metadata": {},
   "source": [
    "La función de costo ya simplificada es la siguiente:\n",
    "\n",
    "$$ J(\\vec{\\beta}) = -  \\sum_{i=1}^n{[y_i \\ln{(\\hat{p}(x_i))} + (1-y_i)\\ln{(1 - \\hat{p}(x_i))}]}$$"
   ]
  },
  {
   "cell_type": "markdown",
   "id": "cd13da5a-745c-42c9-b54d-eb0201038089",
   "metadata": {},
   "source": [
    "Utiliza la clase `LogisticRegression` del módulo `linear_model` de la librería `sklearn` para estimar los parámetros del modelo."
   ]
  },
  {
   "cell_type": "code",
   "execution_count": 68,
   "id": "1e27ce77-d143-40a8-8a85-7596ceb7ec07",
   "metadata": {},
   "outputs": [],
   "source": [
    "from sklearn.linear_model import LogisticRegression"
   ]
  },
  {
   "cell_type": "code",
   "execution_count": 69,
   "id": "21c9b941-2563-474e-8944-0847ce7278fb",
   "metadata": {},
   "outputs": [],
   "source": [
    "x = data[[\"balance\"]]               \n",
    "y = (data[\"default\"] == \"Yes\").astype(int)"
   ]
  },
  {
   "cell_type": "code",
   "execution_count": 70,
   "id": "981dc02b-0c44-4981-b24d-82d9083e09d4",
   "metadata": {},
   "outputs": [],
   "source": [
    "lr = LogisticRegression()"
   ]
  },
  {
   "cell_type": "code",
   "execution_count": 71,
   "id": "48a1974e-a980-4ae4-ae2a-d584a48dca06",
   "metadata": {},
   "outputs": [
    {
     "data": {
      "text/html": [
       "<style>#sk-container-id-2 {\n",
       "  /* Definition of color scheme common for light and dark mode */\n",
       "  --sklearn-color-text: #000;\n",
       "  --sklearn-color-text-muted: #666;\n",
       "  --sklearn-color-line: gray;\n",
       "  /* Definition of color scheme for unfitted estimators */\n",
       "  --sklearn-color-unfitted-level-0: #fff5e6;\n",
       "  --sklearn-color-unfitted-level-1: #f6e4d2;\n",
       "  --sklearn-color-unfitted-level-2: #ffe0b3;\n",
       "  --sklearn-color-unfitted-level-3: chocolate;\n",
       "  /* Definition of color scheme for fitted estimators */\n",
       "  --sklearn-color-fitted-level-0: #f0f8ff;\n",
       "  --sklearn-color-fitted-level-1: #d4ebff;\n",
       "  --sklearn-color-fitted-level-2: #b3dbfd;\n",
       "  --sklearn-color-fitted-level-3: cornflowerblue;\n",
       "\n",
       "  /* Specific color for light theme */\n",
       "  --sklearn-color-text-on-default-background: var(--sg-text-color, var(--theme-code-foreground, var(--jp-content-font-color1, black)));\n",
       "  --sklearn-color-background: var(--sg-background-color, var(--theme-background, var(--jp-layout-color0, white)));\n",
       "  --sklearn-color-border-box: var(--sg-text-color, var(--theme-code-foreground, var(--jp-content-font-color1, black)));\n",
       "  --sklearn-color-icon: #696969;\n",
       "\n",
       "  @media (prefers-color-scheme: dark) {\n",
       "    /* Redefinition of color scheme for dark theme */\n",
       "    --sklearn-color-text-on-default-background: var(--sg-text-color, var(--theme-code-foreground, var(--jp-content-font-color1, white)));\n",
       "    --sklearn-color-background: var(--sg-background-color, var(--theme-background, var(--jp-layout-color0, #111)));\n",
       "    --sklearn-color-border-box: var(--sg-text-color, var(--theme-code-foreground, var(--jp-content-font-color1, white)));\n",
       "    --sklearn-color-icon: #878787;\n",
       "  }\n",
       "}\n",
       "\n",
       "#sk-container-id-2 {\n",
       "  color: var(--sklearn-color-text);\n",
       "}\n",
       "\n",
       "#sk-container-id-2 pre {\n",
       "  padding: 0;\n",
       "}\n",
       "\n",
       "#sk-container-id-2 input.sk-hidden--visually {\n",
       "  border: 0;\n",
       "  clip: rect(1px 1px 1px 1px);\n",
       "  clip: rect(1px, 1px, 1px, 1px);\n",
       "  height: 1px;\n",
       "  margin: -1px;\n",
       "  overflow: hidden;\n",
       "  padding: 0;\n",
       "  position: absolute;\n",
       "  width: 1px;\n",
       "}\n",
       "\n",
       "#sk-container-id-2 div.sk-dashed-wrapped {\n",
       "  border: 1px dashed var(--sklearn-color-line);\n",
       "  margin: 0 0.4em 0.5em 0.4em;\n",
       "  box-sizing: border-box;\n",
       "  padding-bottom: 0.4em;\n",
       "  background-color: var(--sklearn-color-background);\n",
       "}\n",
       "\n",
       "#sk-container-id-2 div.sk-container {\n",
       "  /* jupyter's `normalize.less` sets `[hidden] { display: none; }`\n",
       "     but bootstrap.min.css set `[hidden] { display: none !important; }`\n",
       "     so we also need the `!important` here to be able to override the\n",
       "     default hidden behavior on the sphinx rendered scikit-learn.org.\n",
       "     See: https://github.com/scikit-learn/scikit-learn/issues/21755 */\n",
       "  display: inline-block !important;\n",
       "  position: relative;\n",
       "}\n",
       "\n",
       "#sk-container-id-2 div.sk-text-repr-fallback {\n",
       "  display: none;\n",
       "}\n",
       "\n",
       "div.sk-parallel-item,\n",
       "div.sk-serial,\n",
       "div.sk-item {\n",
       "  /* draw centered vertical line to link estimators */\n",
       "  background-image: linear-gradient(var(--sklearn-color-text-on-default-background), var(--sklearn-color-text-on-default-background));\n",
       "  background-size: 2px 100%;\n",
       "  background-repeat: no-repeat;\n",
       "  background-position: center center;\n",
       "}\n",
       "\n",
       "/* Parallel-specific style estimator block */\n",
       "\n",
       "#sk-container-id-2 div.sk-parallel-item::after {\n",
       "  content: \"\";\n",
       "  width: 100%;\n",
       "  border-bottom: 2px solid var(--sklearn-color-text-on-default-background);\n",
       "  flex-grow: 1;\n",
       "}\n",
       "\n",
       "#sk-container-id-2 div.sk-parallel {\n",
       "  display: flex;\n",
       "  align-items: stretch;\n",
       "  justify-content: center;\n",
       "  background-color: var(--sklearn-color-background);\n",
       "  position: relative;\n",
       "}\n",
       "\n",
       "#sk-container-id-2 div.sk-parallel-item {\n",
       "  display: flex;\n",
       "  flex-direction: column;\n",
       "}\n",
       "\n",
       "#sk-container-id-2 div.sk-parallel-item:first-child::after {\n",
       "  align-self: flex-end;\n",
       "  width: 50%;\n",
       "}\n",
       "\n",
       "#sk-container-id-2 div.sk-parallel-item:last-child::after {\n",
       "  align-self: flex-start;\n",
       "  width: 50%;\n",
       "}\n",
       "\n",
       "#sk-container-id-2 div.sk-parallel-item:only-child::after {\n",
       "  width: 0;\n",
       "}\n",
       "\n",
       "/* Serial-specific style estimator block */\n",
       "\n",
       "#sk-container-id-2 div.sk-serial {\n",
       "  display: flex;\n",
       "  flex-direction: column;\n",
       "  align-items: center;\n",
       "  background-color: var(--sklearn-color-background);\n",
       "  padding-right: 1em;\n",
       "  padding-left: 1em;\n",
       "}\n",
       "\n",
       "\n",
       "/* Toggleable style: style used for estimator/Pipeline/ColumnTransformer box that is\n",
       "clickable and can be expanded/collapsed.\n",
       "- Pipeline and ColumnTransformer use this feature and define the default style\n",
       "- Estimators will overwrite some part of the style using the `sk-estimator` class\n",
       "*/\n",
       "\n",
       "/* Pipeline and ColumnTransformer style (default) */\n",
       "\n",
       "#sk-container-id-2 div.sk-toggleable {\n",
       "  /* Default theme specific background. It is overwritten whether we have a\n",
       "  specific estimator or a Pipeline/ColumnTransformer */\n",
       "  background-color: var(--sklearn-color-background);\n",
       "}\n",
       "\n",
       "/* Toggleable label */\n",
       "#sk-container-id-2 label.sk-toggleable__label {\n",
       "  cursor: pointer;\n",
       "  display: flex;\n",
       "  width: 100%;\n",
       "  margin-bottom: 0;\n",
       "  padding: 0.5em;\n",
       "  box-sizing: border-box;\n",
       "  text-align: center;\n",
       "  align-items: start;\n",
       "  justify-content: space-between;\n",
       "  gap: 0.5em;\n",
       "}\n",
       "\n",
       "#sk-container-id-2 label.sk-toggleable__label .caption {\n",
       "  font-size: 0.6rem;\n",
       "  font-weight: lighter;\n",
       "  color: var(--sklearn-color-text-muted);\n",
       "}\n",
       "\n",
       "#sk-container-id-2 label.sk-toggleable__label-arrow:before {\n",
       "  /* Arrow on the left of the label */\n",
       "  content: \"▸\";\n",
       "  float: left;\n",
       "  margin-right: 0.25em;\n",
       "  color: var(--sklearn-color-icon);\n",
       "}\n",
       "\n",
       "#sk-container-id-2 label.sk-toggleable__label-arrow:hover:before {\n",
       "  color: var(--sklearn-color-text);\n",
       "}\n",
       "\n",
       "/* Toggleable content - dropdown */\n",
       "\n",
       "#sk-container-id-2 div.sk-toggleable__content {\n",
       "  max-height: 0;\n",
       "  max-width: 0;\n",
       "  overflow: hidden;\n",
       "  text-align: left;\n",
       "  /* unfitted */\n",
       "  background-color: var(--sklearn-color-unfitted-level-0);\n",
       "}\n",
       "\n",
       "#sk-container-id-2 div.sk-toggleable__content.fitted {\n",
       "  /* fitted */\n",
       "  background-color: var(--sklearn-color-fitted-level-0);\n",
       "}\n",
       "\n",
       "#sk-container-id-2 div.sk-toggleable__content pre {\n",
       "  margin: 0.2em;\n",
       "  border-radius: 0.25em;\n",
       "  color: var(--sklearn-color-text);\n",
       "  /* unfitted */\n",
       "  background-color: var(--sklearn-color-unfitted-level-0);\n",
       "}\n",
       "\n",
       "#sk-container-id-2 div.sk-toggleable__content.fitted pre {\n",
       "  /* unfitted */\n",
       "  background-color: var(--sklearn-color-fitted-level-0);\n",
       "}\n",
       "\n",
       "#sk-container-id-2 input.sk-toggleable__control:checked~div.sk-toggleable__content {\n",
       "  /* Expand drop-down */\n",
       "  max-height: 200px;\n",
       "  max-width: 100%;\n",
       "  overflow: auto;\n",
       "}\n",
       "\n",
       "#sk-container-id-2 input.sk-toggleable__control:checked~label.sk-toggleable__label-arrow:before {\n",
       "  content: \"▾\";\n",
       "}\n",
       "\n",
       "/* Pipeline/ColumnTransformer-specific style */\n",
       "\n",
       "#sk-container-id-2 div.sk-label input.sk-toggleable__control:checked~label.sk-toggleable__label {\n",
       "  color: var(--sklearn-color-text);\n",
       "  background-color: var(--sklearn-color-unfitted-level-2);\n",
       "}\n",
       "\n",
       "#sk-container-id-2 div.sk-label.fitted input.sk-toggleable__control:checked~label.sk-toggleable__label {\n",
       "  background-color: var(--sklearn-color-fitted-level-2);\n",
       "}\n",
       "\n",
       "/* Estimator-specific style */\n",
       "\n",
       "/* Colorize estimator box */\n",
       "#sk-container-id-2 div.sk-estimator input.sk-toggleable__control:checked~label.sk-toggleable__label {\n",
       "  /* unfitted */\n",
       "  background-color: var(--sklearn-color-unfitted-level-2);\n",
       "}\n",
       "\n",
       "#sk-container-id-2 div.sk-estimator.fitted input.sk-toggleable__control:checked~label.sk-toggleable__label {\n",
       "  /* fitted */\n",
       "  background-color: var(--sklearn-color-fitted-level-2);\n",
       "}\n",
       "\n",
       "#sk-container-id-2 div.sk-label label.sk-toggleable__label,\n",
       "#sk-container-id-2 div.sk-label label {\n",
       "  /* The background is the default theme color */\n",
       "  color: var(--sklearn-color-text-on-default-background);\n",
       "}\n",
       "\n",
       "/* On hover, darken the color of the background */\n",
       "#sk-container-id-2 div.sk-label:hover label.sk-toggleable__label {\n",
       "  color: var(--sklearn-color-text);\n",
       "  background-color: var(--sklearn-color-unfitted-level-2);\n",
       "}\n",
       "\n",
       "/* Label box, darken color on hover, fitted */\n",
       "#sk-container-id-2 div.sk-label.fitted:hover label.sk-toggleable__label.fitted {\n",
       "  color: var(--sklearn-color-text);\n",
       "  background-color: var(--sklearn-color-fitted-level-2);\n",
       "}\n",
       "\n",
       "/* Estimator label */\n",
       "\n",
       "#sk-container-id-2 div.sk-label label {\n",
       "  font-family: monospace;\n",
       "  font-weight: bold;\n",
       "  display: inline-block;\n",
       "  line-height: 1.2em;\n",
       "}\n",
       "\n",
       "#sk-container-id-2 div.sk-label-container {\n",
       "  text-align: center;\n",
       "}\n",
       "\n",
       "/* Estimator-specific */\n",
       "#sk-container-id-2 div.sk-estimator {\n",
       "  font-family: monospace;\n",
       "  border: 1px dotted var(--sklearn-color-border-box);\n",
       "  border-radius: 0.25em;\n",
       "  box-sizing: border-box;\n",
       "  margin-bottom: 0.5em;\n",
       "  /* unfitted */\n",
       "  background-color: var(--sklearn-color-unfitted-level-0);\n",
       "}\n",
       "\n",
       "#sk-container-id-2 div.sk-estimator.fitted {\n",
       "  /* fitted */\n",
       "  background-color: var(--sklearn-color-fitted-level-0);\n",
       "}\n",
       "\n",
       "/* on hover */\n",
       "#sk-container-id-2 div.sk-estimator:hover {\n",
       "  /* unfitted */\n",
       "  background-color: var(--sklearn-color-unfitted-level-2);\n",
       "}\n",
       "\n",
       "#sk-container-id-2 div.sk-estimator.fitted:hover {\n",
       "  /* fitted */\n",
       "  background-color: var(--sklearn-color-fitted-level-2);\n",
       "}\n",
       "\n",
       "/* Specification for estimator info (e.g. \"i\" and \"?\") */\n",
       "\n",
       "/* Common style for \"i\" and \"?\" */\n",
       "\n",
       ".sk-estimator-doc-link,\n",
       "a:link.sk-estimator-doc-link,\n",
       "a:visited.sk-estimator-doc-link {\n",
       "  float: right;\n",
       "  font-size: smaller;\n",
       "  line-height: 1em;\n",
       "  font-family: monospace;\n",
       "  background-color: var(--sklearn-color-background);\n",
       "  border-radius: 1em;\n",
       "  height: 1em;\n",
       "  width: 1em;\n",
       "  text-decoration: none !important;\n",
       "  margin-left: 0.5em;\n",
       "  text-align: center;\n",
       "  /* unfitted */\n",
       "  border: var(--sklearn-color-unfitted-level-1) 1pt solid;\n",
       "  color: var(--sklearn-color-unfitted-level-1);\n",
       "}\n",
       "\n",
       ".sk-estimator-doc-link.fitted,\n",
       "a:link.sk-estimator-doc-link.fitted,\n",
       "a:visited.sk-estimator-doc-link.fitted {\n",
       "  /* fitted */\n",
       "  border: var(--sklearn-color-fitted-level-1) 1pt solid;\n",
       "  color: var(--sklearn-color-fitted-level-1);\n",
       "}\n",
       "\n",
       "/* On hover */\n",
       "div.sk-estimator:hover .sk-estimator-doc-link:hover,\n",
       ".sk-estimator-doc-link:hover,\n",
       "div.sk-label-container:hover .sk-estimator-doc-link:hover,\n",
       ".sk-estimator-doc-link:hover {\n",
       "  /* unfitted */\n",
       "  background-color: var(--sklearn-color-unfitted-level-3);\n",
       "  color: var(--sklearn-color-background);\n",
       "  text-decoration: none;\n",
       "}\n",
       "\n",
       "div.sk-estimator.fitted:hover .sk-estimator-doc-link.fitted:hover,\n",
       ".sk-estimator-doc-link.fitted:hover,\n",
       "div.sk-label-container:hover .sk-estimator-doc-link.fitted:hover,\n",
       ".sk-estimator-doc-link.fitted:hover {\n",
       "  /* fitted */\n",
       "  background-color: var(--sklearn-color-fitted-level-3);\n",
       "  color: var(--sklearn-color-background);\n",
       "  text-decoration: none;\n",
       "}\n",
       "\n",
       "/* Span, style for the box shown on hovering the info icon */\n",
       ".sk-estimator-doc-link span {\n",
       "  display: none;\n",
       "  z-index: 9999;\n",
       "  position: relative;\n",
       "  font-weight: normal;\n",
       "  right: .2ex;\n",
       "  padding: .5ex;\n",
       "  margin: .5ex;\n",
       "  width: min-content;\n",
       "  min-width: 20ex;\n",
       "  max-width: 50ex;\n",
       "  color: var(--sklearn-color-text);\n",
       "  box-shadow: 2pt 2pt 4pt #999;\n",
       "  /* unfitted */\n",
       "  background: var(--sklearn-color-unfitted-level-0);\n",
       "  border: .5pt solid var(--sklearn-color-unfitted-level-3);\n",
       "}\n",
       "\n",
       ".sk-estimator-doc-link.fitted span {\n",
       "  /* fitted */\n",
       "  background: var(--sklearn-color-fitted-level-0);\n",
       "  border: var(--sklearn-color-fitted-level-3);\n",
       "}\n",
       "\n",
       ".sk-estimator-doc-link:hover span {\n",
       "  display: block;\n",
       "}\n",
       "\n",
       "/* \"?\"-specific style due to the `<a>` HTML tag */\n",
       "\n",
       "#sk-container-id-2 a.estimator_doc_link {\n",
       "  float: right;\n",
       "  font-size: 1rem;\n",
       "  line-height: 1em;\n",
       "  font-family: monospace;\n",
       "  background-color: var(--sklearn-color-background);\n",
       "  border-radius: 1rem;\n",
       "  height: 1rem;\n",
       "  width: 1rem;\n",
       "  text-decoration: none;\n",
       "  /* unfitted */\n",
       "  color: var(--sklearn-color-unfitted-level-1);\n",
       "  border: var(--sklearn-color-unfitted-level-1) 1pt solid;\n",
       "}\n",
       "\n",
       "#sk-container-id-2 a.estimator_doc_link.fitted {\n",
       "  /* fitted */\n",
       "  border: var(--sklearn-color-fitted-level-1) 1pt solid;\n",
       "  color: var(--sklearn-color-fitted-level-1);\n",
       "}\n",
       "\n",
       "/* On hover */\n",
       "#sk-container-id-2 a.estimator_doc_link:hover {\n",
       "  /* unfitted */\n",
       "  background-color: var(--sklearn-color-unfitted-level-3);\n",
       "  color: var(--sklearn-color-background);\n",
       "  text-decoration: none;\n",
       "}\n",
       "\n",
       "#sk-container-id-2 a.estimator_doc_link.fitted:hover {\n",
       "  /* fitted */\n",
       "  background-color: var(--sklearn-color-fitted-level-3);\n",
       "}\n",
       "</style><div id=\"sk-container-id-2\" class=\"sk-top-container\"><div class=\"sk-text-repr-fallback\"><pre>LogisticRegression()</pre><b>In a Jupyter environment, please rerun this cell to show the HTML representation or trust the notebook. <br />On GitHub, the HTML representation is unable to render, please try loading this page with nbviewer.org.</b></div><div class=\"sk-container\" hidden><div class=\"sk-item\"><div class=\"sk-estimator fitted sk-toggleable\"><input class=\"sk-toggleable__control sk-hidden--visually\" id=\"sk-estimator-id-2\" type=\"checkbox\" checked><label for=\"sk-estimator-id-2\" class=\"sk-toggleable__label fitted sk-toggleable__label-arrow\"><div><div>LogisticRegression</div></div><div><a class=\"sk-estimator-doc-link fitted\" rel=\"noreferrer\" target=\"_blank\" href=\"https://scikit-learn.org/1.6/modules/generated/sklearn.linear_model.LogisticRegression.html\">?<span>Documentation for LogisticRegression</span></a><span class=\"sk-estimator-doc-link fitted\">i<span>Fitted</span></span></div></label><div class=\"sk-toggleable__content fitted\"><pre>LogisticRegression()</pre></div> </div></div></div></div>"
      ],
      "text/plain": [
       "LogisticRegression()"
      ]
     },
     "execution_count": 71,
     "metadata": {},
     "output_type": "execute_result"
    }
   ],
   "source": [
    "lr.fit(x,y)"
   ]
  },
  {
   "cell_type": "code",
   "execution_count": 72,
   "id": "f42fae5c-53fe-4160-b380-5c2749ccc627",
   "metadata": {},
   "outputs": [
    {
     "data": {
      "text/plain": [
       "array([-10.65132824])"
      ]
     },
     "execution_count": 72,
     "metadata": {},
     "output_type": "execute_result"
    }
   ],
   "source": [
    "lr.intercept_"
   ]
  },
  {
   "cell_type": "code",
   "execution_count": 73,
   "id": "fe564be8-e2e7-4317-bb88-04d28565dccd",
   "metadata": {},
   "outputs": [
    {
     "data": {
      "text/plain": [
       "array([[0.00549892]])"
      ]
     },
     "execution_count": 73,
     "metadata": {},
     "output_type": "execute_result"
    }
   ],
   "source": [
    "lr.coef_"
   ]
  },
  {
   "cell_type": "markdown",
   "id": "1df9414b-2a8e-42bd-a84b-633ba221dc12",
   "metadata": {},
   "source": [
    "Muchos aspectos de la regresión logística son similares a la regresión lineal. Podemos medir la precisión de nuestros estimados calculando sus errores estándar. El objetivo de calcular estos errores es asegurar que hay una relación estadísticamente significativa entre el factor y la variable de respuesta.\n",
    "\n",
    "Los errores estándar se obtienen con el siguiente procedimiento:\n",
    "\n",
    "1. Calcula las predicciones utilizando los $\\beta_0$ y $\\beta_1$ encontrados."
   ]
  },
  {
   "cell_type": "code",
   "execution_count": 74,
   "id": "3a41f402-bf4f-4dd9-9f41-b47aaa2ff7f7",
   "metadata": {},
   "outputs": [],
   "source": [
    "import numpy as np\n",
    "b0 = lr.intercept_\n",
    "b1 = lr.coef_"
   ]
  },
  {
   "cell_type": "code",
   "execution_count": 75,
   "id": "566c9c2e-4476-4ab7-a5c1-a72a27d46a6e",
   "metadata": {},
   "outputs": [],
   "source": [
    "balance = data[\"balance\"].values  \n",
    "p = 1 / (1 + np.exp(-(b0 + b1 * balance)))"
   ]
  },
  {
   "cell_type": "code",
   "execution_count": 76,
   "id": "83ec9306-da93-4a39-aa54-da07f1a71db0",
   "metadata": {},
   "outputs": [
    {
     "data": {
      "text/plain": [
       "array([[1.30568146e-03, 2.11259754e-03, 8.59474814e-03, ...,\n",
       "        2.46651596e-03, 1.16759635e-01, 7.14476480e-05]])"
      ]
     },
     "execution_count": 76,
     "metadata": {},
     "output_type": "execute_result"
    }
   ],
   "source": [
    "p"
   ]
  },
  {
   "cell_type": "markdown",
   "id": "7c9fd491-1e87-4b54-ad24-ae972ff499cb",
   "metadata": {},
   "source": [
    "2. Idealmente la probabilidad debería ser 100% o 0%. Si alguna predicción no fue absoluta significa que hay incertidumbre. Calcula $p(1-p)$ para todas tus predicciones."
   ]
  },
  {
   "cell_type": "code",
   "execution_count": 77,
   "id": "2ec63991-e6cd-48b9-afe1-0e6f2c25578b",
   "metadata": {},
   "outputs": [],
   "source": [
    "p_var = p * (1 - p)"
   ]
  },
  {
   "cell_type": "code",
   "execution_count": 78,
   "id": "e897d7b6-97d2-4536-a46d-12e19d083b4f",
   "metadata": {},
   "outputs": [
    {
     "data": {
      "text/plain": [
       "array([[1.30397665e-03, 2.10813447e-03, 8.52087844e-03, ...,\n",
       "        2.46043226e-03, 1.03126823e-01, 7.14425432e-05]])"
      ]
     },
     "execution_count": 78,
     "metadata": {},
     "output_type": "execute_result"
    }
   ],
   "source": [
    "p_var"
   ]
  },
  {
   "cell_type": "code",
   "execution_count": null,
   "id": "ee34beed-72ae-440b-859e-bb376fda4b81",
   "metadata": {},
   "outputs": [],
   "source": []
  },
  {
   "cell_type": "markdown",
   "id": "f3897eae-d856-4cc9-9224-4988784a2531",
   "metadata": {},
   "source": [
    "3. Crea una matriz vacía y llena la diagonal con las probabilidades encontradas.\n",
    "\n",
    "`V = np.diagflat(*p(1-p)*)`"
   ]
  },
  {
   "cell_type": "code",
   "execution_count": 79,
   "id": "b0414d6b-f881-4ee7-b406-9be9972aa4d5",
   "metadata": {},
   "outputs": [],
   "source": [
    "V = np.diagflat(p * (1 - p))"
   ]
  },
  {
   "cell_type": "code",
   "execution_count": 80,
   "id": "e0ce76fe-4da1-49e0-83f3-aafadc4c9a66",
   "metadata": {},
   "outputs": [
    {
     "data": {
      "text/plain": [
       "array([[1.30397665e-03, 0.00000000e+00, 0.00000000e+00, ...,\n",
       "        0.00000000e+00, 0.00000000e+00, 0.00000000e+00],\n",
       "       [0.00000000e+00, 2.10813447e-03, 0.00000000e+00, ...,\n",
       "        0.00000000e+00, 0.00000000e+00, 0.00000000e+00],\n",
       "       [0.00000000e+00, 0.00000000e+00, 8.52087844e-03, ...,\n",
       "        0.00000000e+00, 0.00000000e+00, 0.00000000e+00],\n",
       "       ...,\n",
       "       [0.00000000e+00, 0.00000000e+00, 0.00000000e+00, ...,\n",
       "        2.46043226e-03, 0.00000000e+00, 0.00000000e+00],\n",
       "       [0.00000000e+00, 0.00000000e+00, 0.00000000e+00, ...,\n",
       "        0.00000000e+00, 1.03126823e-01, 0.00000000e+00],\n",
       "       [0.00000000e+00, 0.00000000e+00, 0.00000000e+00, ...,\n",
       "        0.00000000e+00, 0.00000000e+00, 7.14425432e-05]])"
      ]
     },
     "execution_count": 80,
     "metadata": {},
     "output_type": "execute_result"
    }
   ],
   "source": [
    "V"
   ]
  },
  {
   "cell_type": "code",
   "execution_count": null,
   "id": "2154bbbf-3f09-4143-b854-9bac0c3009ca",
   "metadata": {},
   "outputs": [],
   "source": []
  },
  {
   "cell_type": "markdown",
   "id": "f8e905e4-9d02-4077-aa3e-e8f2da17491c",
   "metadata": {},
   "source": [
    "4. Calcula la matriz de covarianza. (Dado que X es la matriz que contiene todos los factores)\n",
    "\n",
    "`cov = np.linalg.inv(X.T @ V @ X)`"
   ]
  },
  {
   "cell_type": "code",
   "execution_count": 81,
   "id": "6eb4d973-362b-470c-8f50-6ea4a5fb2c71",
   "metadata": {},
   "outputs": [],
   "source": [
    "X = np.column_stack((np.ones(len(balance)), balance))\n",
    "cov = np.linalg.inv(X.T @ V @ X)"
   ]
  },
  {
   "cell_type": "code",
   "execution_count": null,
   "id": "0779af66-573e-4340-88e7-521b8e15f765",
   "metadata": {},
   "outputs": [],
   "source": []
  },
  {
   "cell_type": "code",
   "execution_count": null,
   "id": "f58130d4-d334-4034-81bc-2734910a658c",
   "metadata": {},
   "outputs": [],
   "source": []
  },
  {
   "cell_type": "markdown",
   "id": "8a0ebe10-5f57-4f33-98d0-cc62259273ac",
   "metadata": {},
   "source": [
    "5. Los valores en la diagonal de la matriz de covarianza corresponden a la varianza de los factores. Utiliza los valores de la diagonal para calcular el error estándar.\n",
    "\n",
    "`se = np.sqrt(np.diag(cov))`"
   ]
  },
  {
   "cell_type": "code",
   "execution_count": 82,
   "id": "99119840-b3b2-4d99-8250-ff777b67cf19",
   "metadata": {},
   "outputs": [],
   "source": [
    "se = np.sqrt(np.diag(cov))"
   ]
  },
  {
   "cell_type": "code",
   "execution_count": null,
   "id": "160ee260-2e7d-4f47-a9d6-b37c285e39d8",
   "metadata": {},
   "outputs": [],
   "source": []
  },
  {
   "cell_type": "code",
   "execution_count": null,
   "id": "84d52f3d-dba8-4e77-8cbd-3b7dd7c4d920",
   "metadata": {},
   "outputs": [],
   "source": []
  },
  {
   "cell_type": "markdown",
   "id": "850e3bf5-a888-4985-936c-6655f0109b02",
   "metadata": {},
   "source": [
    "Ahora, revisemos si los estimados de nuestros coeficientes demuestran que hay una relación significativa entre los factores y la respuesta.\n",
    "\n",
    "Calculamos el estadístico *z*\n",
    "\n",
    "$$ z_j = \\frac{\\hat{\\beta_j}}{\\text{SE}(\\hat{\\beta_j})} $$"
   ]
  },
  {
   "cell_type": "code",
   "execution_count": 84,
   "id": "a49cdb9a-6ad8-4ccf-a408-c13c024d4096",
   "metadata": {},
   "outputs": [
    {
     "name": "stderr",
     "output_type": "stream",
     "text": [
      "C:\\Users\\Nicolas\\AppData\\Local\\Temp\\ipykernel_20100\\1810988640.py:1: DeprecationWarning: Conversion of an array with ndim > 0 to a scalar is deprecated, and will error in future. Ensure you extract a single element from your array before performing this operation. (Deprecated NumPy 1.25.)\n",
      "  b0_val = float(b0)\n",
      "C:\\Users\\Nicolas\\AppData\\Local\\Temp\\ipykernel_20100\\1810988640.py:2: DeprecationWarning: Conversion of an array with ndim > 0 to a scalar is deprecated, and will error in future. Ensure you extract a single element from your array before performing this operation. (Deprecated NumPy 1.25.)\n",
      "  b1_val = float(b1)\n"
     ]
    }
   ],
   "source": [
    "b0_val = float(b0)         \n",
    "b1_val = float(b1) \n",
    "betas = np.array([b0_val, b1_val])\n",
    "z = betas / se"
   ]
  },
  {
   "cell_type": "code",
   "execution_count": null,
   "id": "1779d07a-583b-4124-b920-7d5b2c0dc089",
   "metadata": {},
   "outputs": [],
   "source": []
  },
  {
   "cell_type": "code",
   "execution_count": null,
   "id": "1b545b22-e264-47ba-8846-107983ff7f23",
   "metadata": {},
   "outputs": [],
   "source": []
  },
  {
   "cell_type": "markdown",
   "id": "d4b57cc6-6a33-4554-ba5f-1d1570986f00",
   "metadata": {},
   "source": [
    "Utilizamos el estadístico *z* para encontrar el *p-value*.\n",
    "\n",
    "`from scipy.stats import norm`\n",
    "\n",
    "`p_value = 2 * (1 - norm.cdf(abs(z_statistic)))`"
   ]
  },
  {
   "cell_type": "code",
   "execution_count": 86,
   "id": "b95028ec-9c4b-48d3-95bb-7210202d9902",
   "metadata": {},
   "outputs": [
    {
     "data": {
      "text/plain": [
       "array([0., 0.])"
      ]
     },
     "execution_count": 86,
     "metadata": {},
     "output_type": "execute_result"
    }
   ],
   "source": [
    "from scipy.stats import norm\n",
    "p_value = 2 * (1 - norm.cdf(abs(z)))\n",
    "p_value"
   ]
  },
  {
   "cell_type": "code",
   "execution_count": null,
   "id": "7a38b128-87a1-4ffd-b9f1-d35f72743cb2",
   "metadata": {},
   "outputs": [],
   "source": []
  },
  {
   "cell_type": "code",
   "execution_count": null,
   "id": "660692fa-a954-4b49-8962-aaccc04b7d0d",
   "metadata": {},
   "outputs": [],
   "source": []
  },
  {
   "cell_type": "markdown",
   "id": "a465d7b1-1f78-4ae9-84a6-2b766c737e86",
   "metadata": {},
   "source": [
    "¿Es significativa la relación de los factores con la variable de respuesta?"
   ]
  },
  {
   "cell_type": "markdown",
   "id": "24252820-f896-4cda-9ff9-14b1c4e73cc1",
   "metadata": {
    "jp-MarkdownHeadingCollapsed": true
   },
   "source": [
    "Sí, la relación entre los factores (especialmente el balance) y la variable de respuesta (default) es significativa. Esto significa que el monto del balance influye de manera clara en la probabilidad de que una persona deje de pagar su crédito."
   ]
  },
  {
   "cell_type": "markdown",
   "id": "a35fcf79-f150-4d91-a3ba-dd0c0005b379",
   "metadata": {},
   "source": []
  },
  {
   "cell_type": "markdown",
   "id": "255eee0a-7073-4595-ac4b-5e8275448eec",
   "metadata": {},
   "source": []
  },
  {
   "cell_type": "markdown",
   "id": "d436f218-93ab-4319-98b7-f9b2ea222efd",
   "metadata": {},
   "source": [
    "Repite el procedimiento con el factor `student`. \n",
    "1. Transforma el factor de {\"Yes\", \"No\"} a {1, 0}.\n",
    "2. Estima los coeficientes. \n",
    "3. Calcula el error estándar de tus estimaciones.\n",
    "   1. Usa tu modelo para encontrar $\\hat{p}(X)$\n",
    "   2. Calcula el error $p(1-p)$\n",
    "   3. Calcula la matriz de covarianza\n",
    "   4. Extrae el error estándar\n",
    "5. Argumenta si los factores son significativos utilizando el *p-value*.\n",
    "   1. Utiliza el error estándar para calcular el estadístico *z*\n",
    "   2. Calcula el *p-value*\n",
    "   3. ¿Son significativos?\n"
   ]
  },
  {
   "cell_type": "code",
   "execution_count": 88,
   "id": "73a2c768-6032-4c63-8d41-611c11e1fed5",
   "metadata": {},
   "outputs": [],
   "source": [
    "x = (data[\"student\"] == \"Yes\").astype(int).values.reshape(-1, 1)\n",
    "y = (data[\"default\"] == \"Yes\").astype(int)"
   ]
  },
  {
   "cell_type": "code",
   "execution_count": 89,
   "id": "ef7cd598-ac3f-464b-91e3-f43d54040933",
   "metadata": {},
   "outputs": [],
   "source": [
    "from sklearn.linear_model import LogisticRegression\n",
    "\n",
    "lr_student = LogisticRegression()\n",
    "lr_student.fit(x, y)\n",
    "\n",
    "b0 = lr_student.intercept_\n",
    "b1 = lr_student.coef_"
   ]
  },
  {
   "cell_type": "code",
   "execution_count": 90,
   "id": "22862547-7f77-4aaa-82a8-e2474f22461b",
   "metadata": {},
   "outputs": [],
   "source": [
    "import numpy as np\n",
    "p = 1 / (1 + np.exp(-(b0 + b1 * x)))"
   ]
  },
  {
   "cell_type": "code",
   "execution_count": 91,
   "id": "1df6215e-d2e4-4c27-b387-d1635c5fbf95",
   "metadata": {},
   "outputs": [],
   "source": [
    "p_var = p * (1 - p)"
   ]
  },
  {
   "cell_type": "code",
   "execution_count": 92,
   "id": "2e56462e-9c2d-45ec-a769-dd2df02c0c4f",
   "metadata": {},
   "outputs": [],
   "source": [
    "V = np.diagflat(p * (1 - p))"
   ]
  },
  {
   "cell_type": "code",
   "execution_count": 93,
   "id": "daff3bd6-cd8b-4e4d-b9e9-617a893d3aaa",
   "metadata": {},
   "outputs": [],
   "source": [
    "X = np.column_stack((np.ones(len(x)), x))\n",
    "cov = np.linalg.inv(X.T @ V @ X)"
   ]
  },
  {
   "cell_type": "code",
   "execution_count": 94,
   "id": "a4e556e2-aa2b-4b3c-9c13-db4af119e549",
   "metadata": {},
   "outputs": [],
   "source": [
    "se = np.sqrt(np.diag(cov))"
   ]
  },
  {
   "cell_type": "code",
   "execution_count": 96,
   "id": "c8e39e5c-8d06-4455-abf4-ad057872371f",
   "metadata": {},
   "outputs": [
    {
     "name": "stderr",
     "output_type": "stream",
     "text": [
      "C:\\Users\\Nicolas\\AppData\\Local\\Temp\\ipykernel_20100\\1814097587.py:1: DeprecationWarning: Conversion of an array with ndim > 0 to a scalar is deprecated, and will error in future. Ensure you extract a single element from your array before performing this operation. (Deprecated NumPy 1.25.)\n",
      "  b0_val = float(b0)\n",
      "C:\\Users\\Nicolas\\AppData\\Local\\Temp\\ipykernel_20100\\1814097587.py:2: DeprecationWarning: Conversion of an array with ndim > 0 to a scalar is deprecated, and will error in future. Ensure you extract a single element from your array before performing this operation. (Deprecated NumPy 1.25.)\n",
      "  b1_val = float(b1)\n"
     ]
    }
   ],
   "source": [
    "b0_val = float(b0)  \n",
    "b1_val = float(b1) \n",
    "betas = np.array([b0_val, b1_val])\n",
    "z = betas / se"
   ]
  },
  {
   "cell_type": "code",
   "execution_count": 97,
   "id": "26304100-702c-4e3d-839e-b69adf0052e0",
   "metadata": {},
   "outputs": [
    {
     "data": {
      "text/plain": [
       "array([0.        , 0.00058452])"
      ]
     },
     "execution_count": 97,
     "metadata": {},
     "output_type": "execute_result"
    }
   ],
   "source": [
    "from scipy.stats import norm\n",
    "p_value = 2 * (1 - norm.cdf(abs(z)))\n",
    "p_value"
   ]
  },
  {
   "cell_type": "markdown",
   "id": "13e04c35-d121-480e-8259-d8bbcd34b791",
   "metadata": {},
   "source": [
    "¿Son significativos?"
   ]
  },
  {
   "cell_type": "markdown",
   "id": "3caf6b3e-8031-4b21-97fe-ae862b4e1970",
   "metadata": {},
   "source": [
    "Sí, la relación entre el factor student y la variable de respuesta default es significativa estadísticamente (p < 0.05)."
   ]
  },
  {
   "cell_type": "code",
   "execution_count": null,
   "id": "2f3ff5da-fe92-45c8-ba8c-fd4f09b93338",
   "metadata": {},
   "outputs": [],
   "source": []
  },
  {
   "cell_type": "code",
   "execution_count": null,
   "id": "de32dd10-2574-4fab-91e3-bffee739f5de",
   "metadata": {},
   "outputs": [],
   "source": []
  },
  {
   "cell_type": "code",
   "execution_count": null,
   "id": "46e4cdc4-c1fd-4dd1-baea-f115168c8a19",
   "metadata": {},
   "outputs": [],
   "source": []
  },
  {
   "cell_type": "markdown",
   "id": "78e212e9-c505-4db4-8e7a-e533f11d1286",
   "metadata": {},
   "source": [
    "## Regresión logística múltiple"
   ]
  },
  {
   "cell_type": "markdown",
   "id": "9ac8c6c2-5e15-4684-9bd9-c31854d75fe1",
   "metadata": {},
   "source": [
    "Considera ahora el caso de múltiples factores. Intentemos predecir si la persona dejará de pagar su crédito utilizando toda la información que tenemos disponible. I.e.\n",
    "\n",
    "$$ P(\\text{default}=1|\\text{balance}, \\text{income}, \\text{student}) = \\frac{1}{1 + e^{-(\\beta_0 + \\beta_1  \\text{balance} + \\beta_2 \\text{income} + \\beta_3 \\text{student})}} $$"
   ]
  },
  {
   "cell_type": "markdown",
   "id": "9ae17c0f-e754-4287-bc34-f04396100460",
   "metadata": {},
   "source": [
    "1. Utiliza `LogisticRegression` para estimar los coeficientes.\n",
    "2. Calcula el error estándar de tus estimaciones.\n",
    "3. Argumenta si los factores son significativos utilizando el *p-value*. "
   ]
  },
  {
   "cell_type": "code",
   "execution_count": 103,
   "id": "e7e36334-79c4-43c8-9006-da1ddf534dd6",
   "metadata": {},
   "outputs": [],
   "source": [
    "from sklearn.linear_model import LogisticRegression\n",
    "import numpy as np\n",
    "import pandas as pd\n",
    "\n",
    "X = data[[\"balance\", \"income\"]].copy()\n",
    "X[\"student\"] = (data[\"student\"] == \"Yes\").astype(int) \n",
    "y = (data[\"default\"] == \"Yes\").astype(int)\n",
    "\n",
    "lr_multi = LogisticRegression()\n",
    "lr_multi.fit(X, y)\n",
    "\n",
    "b0 = lr_multi.intercept_[0]\n",
    "b1, b2, b3 = lr_multi.coef_[0]"
   ]
  },
  {
   "cell_type": "code",
   "execution_count": 109,
   "id": "31dd9a9d-07aa-407a-a6c4-14c7c0330bb1",
   "metadata": {},
   "outputs": [
    {
     "data": {
      "text/plain": [
       "(np.float64(-10.901790127296179),\n",
       " np.float64(0.005730595394888811),\n",
       " np.float64(3.961826653085865e-06),\n",
       " np.float64(-0.6125739237737495))"
      ]
     },
     "execution_count": 109,
     "metadata": {},
     "output_type": "execute_result"
    }
   ],
   "source": [
    "b0, b1, b2, b3"
   ]
  },
  {
   "cell_type": "code",
   "execution_count": 110,
   "id": "135e72e9-ed21-4cc6-9493-c2e36678b6d6",
   "metadata": {},
   "outputs": [],
   "source": [
    "p = lr_multi.predict_proba(X)[:, 1]\n",
    "V = np.diagflat(p * (1 - p))\n",
    "X_mat = np.column_stack((np.ones(len(X)), X.values))\n",
    "cov = np.linalg.inv(X_mat.T @ V @ X_mat)\n",
    "se = np.sqrt(np.diag(cov))"
   ]
  },
  {
   "cell_type": "code",
   "execution_count": 111,
   "id": "1761c775-b649-4d86-9be6-8be13585850d",
   "metadata": {},
   "outputs": [],
   "source": [
    "betas = np.array([b0, b1, b2, b3])\n",
    "z = betas / se\n",
    "p_values = 2 * (1 - norm.cdf(abs(z)))"
   ]
  },
  {
   "cell_type": "code",
   "execution_count": 112,
   "id": "f3729777-b4ef-4a51-b378-7bd341be497d",
   "metadata": {},
   "outputs": [
    {
     "data": {
      "text/plain": [
       "array([0.        , 0.        , 0.62934209, 0.00956064])"
      ]
     },
     "execution_count": 112,
     "metadata": {},
     "output_type": "execute_result"
    }
   ],
   "source": [
    "p_values"
   ]
  },
  {
   "cell_type": "markdown",
   "id": "82de8d73-c24c-4949-b094-987b7fbbe620",
   "metadata": {},
   "source": [
    "En el modelo de regresión logística múltiple, los factores balance y student son significativos para explicar la probabilidad de default.\n",
    "En cambio, el income no muestra evidencia estadística suficiente (p > 0.05) para influir en el resultado."
   ]
  },
  {
   "cell_type": "code",
   "execution_count": null,
   "id": "05a48581-faf0-41b5-851a-355488437686",
   "metadata": {},
   "outputs": [],
   "source": []
  },
  {
   "cell_type": "code",
   "execution_count": null,
   "id": "79b5a158-04fb-4b2a-976c-3fa4c17ad2e6",
   "metadata": {},
   "outputs": [],
   "source": []
  },
  {
   "cell_type": "code",
   "execution_count": null,
   "id": "73ed7cae-d5b3-4e72-aaf4-177332ee1a0f",
   "metadata": {},
   "outputs": [],
   "source": []
  },
  {
   "cell_type": "markdown",
   "id": "c251eb97-5c7e-470b-b95b-c04a6f8831ff",
   "metadata": {},
   "source": [
    "¿Cómo sabemos qué tan bueno es el modelo? Hay cuatro posibles casos para un problema de clasificación simple:\n",
    "- Era sí y se predijo sí. (Verdadero positivo **TP**)\n",
    "- Era sí y se predijo no. (Falso negativo **FN**)\n",
    "- Era no y se predijo sí. (Falso positivo **FP**)\n",
    "- Era no y se predijo no. (Verdadero negativo **TN**)\n",
    "\n",
    "De esos cuatro casos hay dos donde el modelo es correcto y dos donde el modelo no es correcto."
   ]
  },
  {
   "cell_type": "markdown",
   "id": "c30ff1dd-5ed3-4ec2-8f21-1b11b34db645",
   "metadata": {},
   "source": [
    "![](https://miro.medium.com/v2/resize:fit:720/format:webp/1*IuymDnZpRlkat0qejE26Nw.png)"
   ]
  },
  {
   "cell_type": "markdown",
   "id": "6510780d-6b24-41dc-a755-41daf62396ac",
   "metadata": {},
   "source": [
    "1. Menciona dos ejemplos donde consideres que un falso positivo sea un peor resultado que un falso negativo."
   ]
  },
  {
   "cell_type": "markdown",
   "id": "db97be2c-cd7d-4c44-9459-28286d261904",
   "metadata": {},
   "source": [
    "Te haces un examen para detectar una enfermedad, y el resultado dice que sí estás enfermo, pero en realidad no lo estás. Eso sería un falso positivo. Te preocuparías, gastarías dinero en más estudios o tratamientos innecesarios, y pasarías por mucho estrés sin razón. En cambio, si el resultado dijera que no tienes la enfermedad cuando en realidad sí la tienes (falso negativo), claro que también es malo, pero al menos no te habrían hecho pasar por todo ese proceso sin sentido. En este caso, un falso positivo es peor porque causa ansiedad y gastos innecesarios."
   ]
  },
  {
   "cell_type": "markdown",
   "id": "9f870dc7-ae32-464f-a22d-d3b073c894ec",
   "metadata": {},
   "source": [
    "El banco tiene un sistema que detecta posibles fraudes. Si el sistema cree que tu compra es fraudulenta cuando en realidad tú la hiciste (falso positivo), te bloquean la tarjeta y no puedes pagar, aunque no hiciste nada malo. Eso es frustrante y molesto. En cambio, si el sistema deja pasar una compra rara que sí era fraude (falso negativo), el banco puede devolver el dinero o resolverlo después. Aquí, el falso positivo es peor porque afecta directamente al cliente y da una mala experiencia."
   ]
  },
  {
   "cell_type": "markdown",
   "id": "a709cdbb-6de3-4117-ba06-59feaab58865",
   "metadata": {},
   "source": []
  },
  {
   "cell_type": "markdown",
   "id": "994601c2-a7ff-4406-9235-d9b6bb5054bd",
   "metadata": {},
   "source": [
    "2. Menciona dos ejemplos donde consideres que un falso negativo sea un peor resultado que un falso positivo."
   ]
  },
  {
   "cell_type": "markdown",
   "id": "91e4ec0d-9d8e-4aba-a590-14f02cf68a47",
   "metadata": {},
   "source": [
    "Una prueba para detectar una enfermedad como el COVID. Si el resultado dice que no estás enfermo cuando en realidad sí lo estás (falso negativo), podrías salir, convivir con otros y contagiar a más personas sin saberlo. En cambio, si te da un falso positivo (te dice que sí estás enfermo cuando no lo estás), solo tendrías que aislarte unos días y luego comprobar que todo está bien. En este caso, el falso negativo es peor porque puede poner en riesgo la salud de muchas personas."
   ]
  },
  {
   "cell_type": "markdown",
   "id": "15db3797-05d5-4cce-87d9-42c5ecbd3c3e",
   "metadata": {},
   "source": [
    "Tu coche tiene un sistema que detecta si hay una persona frente a ti para frenar automáticamente. Si el sistema no detecta a alguien cuando en realidad sí hay una persona (falso negativo), podrías atropellarla. En cambio, si el sistema cree que hay una persona y frena cuando no hay nadie (falso positivo), tal vez solo te dé un susto o incomodidad. Aquí, el falso negativo es mucho peor porque puede tener consecuencias graves, incluso fatales."
   ]
  },
  {
   "cell_type": "markdown",
   "id": "3202b95e-cb0d-4891-b07e-5981e67eab3f",
   "metadata": {},
   "source": []
  },
  {
   "cell_type": "markdown",
   "id": "ea6276ff-dad9-4caf-a6ed-a23a60ac7ada",
   "metadata": {},
   "source": [
    "## Referencia\n",
    "\n",
    "James, G., Witten, D., Hastie, T., Tibshirani, R.,, Taylor, J. (2023). An Introduction to Statistical Learning with Applications in Python. Cham: Springer. ISBN: 978-3-031-38746-3"
   ]
  }
 ],
 "metadata": {
  "kernelspec": {
   "display_name": "Python 3 (ipykernel)",
   "language": "python",
   "name": "python3"
  },
  "language_info": {
   "codemirror_mode": {
    "name": "ipython",
    "version": 3
   },
   "file_extension": ".py",
   "mimetype": "text/x-python",
   "name": "python",
   "nbconvert_exporter": "python",
   "pygments_lexer": "ipython3",
   "version": "3.13.5"
  }
 },
 "nbformat": 4,
 "nbformat_minor": 5
}
