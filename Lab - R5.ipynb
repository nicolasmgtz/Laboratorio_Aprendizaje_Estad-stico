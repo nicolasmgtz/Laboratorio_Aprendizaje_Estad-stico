{
 "cells": [
  {
   "cell_type": "markdown",
   "id": "70086771-ad90-497d-9b51-22626c9cce63",
   "metadata": {},
   "source": [
    "# Laboratorio de regresión - 5"
   ]
  },
  {
   "cell_type": "markdown",
   "id": "9f666e0e-9e63-49f4-96e1-053c5b1738c3",
   "metadata": {},
   "source": [
    "|                |   |\r\n",
    ":----------------|---|\r\n",
    "| **Nombre**     |Nicolás Martínez Gutiérrez   |\r\n",
    "| **Fecha**      15/09/2025|   |\r\n",
    "| **Expediente**751746 |   |"
   ]
  },
  {
   "cell_type": "markdown",
   "id": "19f352dc-5863-4685-af3c-25f8fcf60841",
   "metadata": {},
   "source": [
    "## Validación"
   ]
  },
  {
   "cell_type": "markdown",
   "id": "b73fccec-9651-4f74-9d56-a3c2b2097e19",
   "metadata": {},
   "source": [
    "Hemos estado usando `train_test_split` en nuestros modelos anteriores.\n",
    "\n",
    "¿Por qué?"
   ]
  },
  {
   "cell_type": "markdown",
   "id": "bd1d28af-580c-4cd6-bb26-8c126a506740",
   "metadata": {},
   "source": [
    " El train_test_split se usa para comprobar si el modelo aprende de los datos y también si puede predecir bien en datos desconocidos."
   ]
  },
  {
   "cell_type": "markdown",
   "id": "84fe97ab-a033-4d0f-ab73-0cdabe591655",
   "metadata": {},
   "source": []
  },
  {
   "cell_type": "markdown",
   "id": "20b452d0-e0b5-4d92-bd1a-288fa14a2ed9",
   "metadata": {},
   "source": []
  },
  {
   "cell_type": "markdown",
   "id": "0a60a028-ed60-4a5c-9308-dee4862e2bac",
   "metadata": {},
   "source": [
    "Si la muestra es un subset de la población y queremos generalizar sobre la población, ¿no sería mejor utilizar todos los datos al entrenar un modelo?"
   ]
  },
  {
   "cell_type": "markdown",
   "id": "b26f9730-816a-4265-bc4b-e72bf6efd182",
   "metadata": {},
   "source": [
    "No usamos todos los datos para entrenar porque necesitamos reservar algunos para probar si el modelo realmente generaliza a nuevos casos."
   ]
  },
  {
   "cell_type": "markdown",
   "id": "50989a32-59e7-4bef-9b60-89f543d8ca81",
   "metadata": {},
   "source": []
  },
  {
   "cell_type": "markdown",
   "id": "ed8b1ad0-3c68-4f6a-b16b-c0b1353d7dd2",
   "metadata": {},
   "source": []
  },
  {
   "cell_type": "markdown",
   "id": "b98d96f3-7370-4161-aa67-75f10e5817cd",
   "metadata": {},
   "source": [
    "El propósito de volver a muestrear dentro de nuestro dataset es tener una idea de qué tan buena podría ser la generalización de nuestro modelo. Imagina un dataset ya separado en dos mitades. Utilizas la primera mitad para entrenar el modelo y pruebas en la segunda mitad; la segunda mitad eran datos invisibles para el modelo al momento de entrenar. Esto nos lleva a tres escenario típicos:\n",
    "\n",
    "1. Si el modelo hace buenas predicciones en la segunda mitad, significa que la primera mitad era \"suficiente\" para generalizar.\n",
    "2. Si el modelo no hace buenas predicciones en la segunda mitad, pero sí en la primera mitad, podría ser que había información importante en la segunda mitad que debió haber sido tomada en cuenta al entrenar, o un problema de overfitting.\n",
    "3. Si el modelo no hace buenas predicciones en la segunda mitad, y tampoco en la primera mitad, se tendrían que revisar los factores y/o el modelo seleccionado.\n",
    "\n",
    "El caso ideal sería el 1, pero por estadística los errores y varianzas tienen como entrada el número de muestas, por lo que tenemos menos seguridad de nuestros resutados al usar menos muestras. Si vemos que el modelo generaliza bien podemos unir de nuevo el dataset y entrenar sobre el dataset completo.\n",
    "\n",
    "En el caso 2 está el problema de que no podemos saber qué información es necesaria para el entrenamiento apropiado del modelo; esto nos lleva a pensar que debemos usar el dataset completo para entrenar, pero esto nos lleva al mismo problema de no saber si el modelo puede generalizar.\n",
    "\n",
    "El problema sólo incrementa si se tienen hiperparámetros en el modelo (e.g. $\\lambda$ en regularización)."
   ]
  },
  {
   "cell_type": "markdown",
   "id": "a16176ad-41fc-4f3c-b865-2eb4219152e2",
   "metadata": {},
   "source": [
    "## Leave-One-Out Cross Validation"
   ]
  },
  {
   "cell_type": "markdown",
   "id": "e1f7165d-5b5d-4e92-ae7f-7edb12eea745",
   "metadata": {},
   "source": [
    "Este método de validación es una colección de $n$ `train-test-split`. Teniendo un dataset de $n$ muestras, la lógica es:\n",
    "1. Saca una muestra del dataset.\n",
    "2. Entrena tu modelo con las $n-1$ muestras.\n",
    "3. Evalúa tu modelo en la muestra que quedó fuera con el métrico que más se ajuste a la aplicación.\n",
    "4. Regresa la muestra al dataset.\n",
    "5. Repite 1-4 con muestras diferentes hasta haber hecho el procedimiento $n$ veces para $n$ muestras.\n",
    "6. Calcula la media y desviación estándar de los métricos guardados."
   ]
  },
  {
   "cell_type": "markdown",
   "id": "21340b80-8fa4-4cdf-8fe4-85e4a35febcd",
   "metadata": {},
   "source": [
    "Con los resultados del proceso de validación podemos saber qué tan bueno podría ser el modelo seleccionado con los datos (con/sin transformaciones)."
   ]
  },
  {
   "cell_type": "markdown",
   "id": "0983bf1c-a6a2-42e4-a522-92bba6b450ab",
   "metadata": {},
   "source": [
    "### Ejercicio 1"
   ]
  },
  {
   "cell_type": "markdown",
   "id": "21e5f076-bc52-482c-9560-ecd0c125efa7",
   "metadata": {},
   "source": [
    "Utiliza el dataset `Motor Trend Car Road Tests`. Elimina la columna `model` y entrena 32 modelos diferentes utilizando Leave-One-Out Cross Validation con target `mpg`. Utiliza MSE como métrico."
   ]
  },
  {
   "cell_type": "code",
   "execution_count": 115,
   "id": "89510da9-15a9-41e5-bd0e-855291acec2a",
   "metadata": {},
   "outputs": [],
   "source": [
    "import numpy as np\n",
    "import pandas as pd\n",
    "from sklearn.linear_model import LinearRegression\n",
    "from sklearn.metrics import r2_score\n",
    "import statsmodels.api as sm\n",
    "from sklearn.model_selection import train_test_split\n",
    "from sklearn.metrics import mean_squared_error"
   ]
  },
  {
   "cell_type": "code",
   "execution_count": 116,
   "id": "b7199ca1-32f0-463b-925f-76613d608a72",
   "metadata": {},
   "outputs": [],
   "source": [
    "data = pd.read_excel(\"Motor Trend Car Road Tests.xlsx\")"
   ]
  },
  {
   "cell_type": "code",
   "execution_count": 117,
   "id": "40ad85dc-3106-4430-9ed2-b6354e00d87f",
   "metadata": {},
   "outputs": [],
   "source": [
    "y = data[\"mpg\"]\n",
    "X = data.drop(columns=[\"mpg\", \"model\"])"
   ]
  },
  {
   "cell_type": "code",
   "execution_count": 118,
   "id": "eb6bf82a-d73e-4c1e-9015-45952f79c0fd",
   "metadata": {},
   "outputs": [],
   "source": [
    "n = len(y)\n",
    "\n",
    "# Guardar los resultados\n",
    "y_pred = []\n",
    "mse = []"
   ]
  },
  {
   "cell_type": "code",
   "execution_count": 119,
   "id": "6b54e999-6127-4c72-a70b-aef6d0b37c2d",
   "metadata": {},
   "outputs": [],
   "source": [
    "for i in range(n):\n",
    "    #Separar train y test\n",
    "    X_train = X.drop(i) # entrenamiento = todo menos la fila i\n",
    "    y_train = y.drop(i)\n",
    "    X_test = X.loc[[i]] # prueba = solo la fila i\n",
    "    y_test = y.loc[[i]]\n",
    "\n",
    "    # Entrena tu modelo con las n-1 muestras.\n",
    "    lr = LinearRegression()\n",
    "    lr.fit(X_train, y_train)\n",
    "\n",
    "    # Evalúa tu modelo en la muestra que quedó fuera con el métrico que más se ajuste a la aplicación\n",
    "    y_true = lr.predict(X_test)\n",
    "    y_pred.append(y_true)\n",
    "\n",
    "    mse_i = mean_squared_error(y_true, y_test)\n",
    "    mse.append(mse_i)\n",
    "\n",
    "    mse_mean = np.mean(mse)\n",
    "    mse_std  = np.std(mse)"
   ]
  },
  {
   "cell_type": "code",
   "execution_count": 120,
   "id": "b61d7622-e892-4c87-a95b-c02b7ba6302a",
   "metadata": {},
   "outputs": [
    {
     "data": {
      "text/plain": [
       "[5.258855796629032,\n",
       " 2.453996713086796,\n",
       " 20.550493416882723,\n",
       " 0.04432910713964311,\n",
       " 1.5811555159760176,\n",
       " 10.118625488875402,\n",
       " 0.016374041548473144,\n",
       " 8.081250710389458,\n",
       " 39.47018347964965,\n",
       " 0.7706327722901085,\n",
       " 4.95569423421588,\n",
       " 10.224730198354456,\n",
       " 4.430129331402713,\n",
       " 0.48781277124784445,\n",
       " 6.823844575809502,\n",
       " 0.6027506975546979,\n",
       " 36.81017860995876,\n",
       " 31.759855581210513,\n",
       " 1.0632275418057744,\n",
       " 32.713286187027215,\n",
       " 14.307173682712715,\n",
       " 3.405354649998901,\n",
       " 9.408007649079861,\n",
       " 0.00010350039803660362,\n",
       " 9.962439534547674,\n",
       " 1.3412208919431314,\n",
       " 0.16480064082222703,\n",
       " 23.600206502249215,\n",
       " 83.11457643385192,\n",
       " 0.00010271237184903523,\n",
       " 8.785533367966945,\n",
       " 17.502929883865395]"
      ]
     },
     "execution_count": 120,
     "metadata": {},
     "output_type": "execute_result"
    }
   ],
   "source": [
    "mse"
   ]
  },
  {
   "cell_type": "code",
   "execution_count": 121,
   "id": "e04bb82e-8833-4fb0-8589-e281ad2bb6b0",
   "metadata": {},
   "outputs": [
    {
     "data": {
      "text/plain": [
       "np.float64(12.181558006901954)"
      ]
     },
     "execution_count": 121,
     "metadata": {},
     "output_type": "execute_result"
    }
   ],
   "source": [
    "mse_mean"
   ]
  },
  {
   "cell_type": "code",
   "execution_count": 122,
   "id": "e70ad885-9126-4ad0-8143-22ba6950f178",
   "metadata": {},
   "outputs": [
    {
     "data": {
      "text/plain": [
       "np.float64(17.067399871888547)"
      ]
     },
     "execution_count": 122,
     "metadata": {},
     "output_type": "execute_result"
    }
   ],
   "source": [
    "mse_std"
   ]
  },
  {
   "cell_type": "code",
   "execution_count": null,
   "id": "121c50e2-387b-446a-981a-9c2d8314e48e",
   "metadata": {},
   "outputs": [],
   "source": []
  },
  {
   "cell_type": "markdown",
   "id": "c8724bdb-e50b-4470-b53a-2d9843fae6ea",
   "metadata": {},
   "source": [
    "Interpreta."
   ]
  },
  {
   "cell_type": "markdown",
   "id": "b19904df-1fe6-433a-b1bd-a7ce86ce0eef",
   "metadata": {},
   "source": []
  },
  {
   "cell_type": "markdown",
   "id": "dc8ee166-b442-49f8-bf40-db9aaf9c3db8",
   "metadata": {},
   "source": []
  },
  {
   "cell_type": "markdown",
   "id": "dbc61dd1-fa5f-43b0-969a-592f8e9fc56f",
   "metadata": {},
   "source": [
    "## K-Folds Cross-Validation"
   ]
  },
  {
   "cell_type": "markdown",
   "id": "2dbca526-2c69-4c70-b6b4-270fc51d825b",
   "metadata": {},
   "source": [
    "El dataset `Motor Trend Car Road Tests` sólo tiene 32 muestras, y utilizar un modelo sencillo de regresión múltiple hace que usar LOOCV sea muy rápido. El dataset `California Housing` tiene $20640$ muestras para $9$ columnas, entonces realizar un ajuste sobre una transformación o sobre el modelo y luego calcular el impacto esperado podría tomar más tiempo."
   ]
  },
  {
   "cell_type": "markdown",
   "id": "8a437812-c00e-400f-ae7d-110b3afa5dc3",
   "metadata": {},
   "source": [
    "La solución propuesta es dividir el dataset en *k* folds (partes iguales), ajustar en *k-1* folds y probar en el restante."
   ]
  },
  {
   "cell_type": "markdown",
   "id": "5bb82cc3-0d35-442a-a12b-f9c6fd131af2",
   "metadata": {},
   "source": [
    "### Ejercicio 2\n",
    "Utiliza el dataset `California Housing` y haz K-folds Cross Validation con 10 folds. Utiliza el MSE como métrico."
   ]
  },
  {
   "cell_type": "code",
   "execution_count": 123,
   "id": "ba50e361-edcd-4cdb-9609-68f20d6fca97",
   "metadata": {},
   "outputs": [
    {
     "name": "stdout",
     "output_type": "stream",
     "text": [
      "Dataset Shape: (20640, 8) (20640,)\n",
      "Dataset Features: ['MedInc', 'HouseAge', 'AveRooms', 'AveBedrms', 'Population', 'AveOccup', 'Latitude', 'Longitude']\n",
      "Dataset Target: ['MedHouseVal']\n"
     ]
    }
   ],
   "source": [
    "from sklearn.datasets import fetch_california_housing\n",
    "from sklearn.utils import shuffle\n",
    "\n",
    "housing = fetch_california_housing()\n",
    "print(\"Dataset Shape:\", housing.data.shape, housing.target.shape)\n",
    "print(\"Dataset Features:\", housing.feature_names)\n",
    "print(\"Dataset Target:\", housing.target_names)\n",
    "X = housing.data\n",
    "y = housing.target"
   ]
  },
  {
   "cell_type": "code",
   "execution_count": 124,
   "id": "4e8570a4-76bb-4d81-a90b-43647b0df438",
   "metadata": {},
   "outputs": [],
   "source": [
    "housing = fetch_california_housing()\n",
    "X, y = shuffle(housing.data, housing.target, random_state=42)"
   ]
  },
  {
   "cell_type": "code",
   "execution_count": 125,
   "id": "54f44358-f47d-493b-93cf-10aa2314fa20",
   "metadata": {},
   "outputs": [],
   "source": [
    "k = 10\n",
    "n = len(X)\n",
    "fold_size = n // k\n",
    "folds = np.array_split(np.arange(n), 10)"
   ]
  },
  {
   "cell_type": "code",
   "execution_count": 126,
   "id": "802bc3a6-3b82-4315-8a7a-f3944987028b",
   "metadata": {},
   "outputs": [],
   "source": [
    "y_pred = []\n",
    "mse = []"
   ]
  },
  {
   "cell_type": "code",
   "execution_count": 127,
   "id": "d6a0f530-28fb-47a2-87d0-540ac73ca572",
   "metadata": {},
   "outputs": [],
   "source": [
    "for i in range(k):\n",
    "    start = i * fold_size\n",
    "    end = (i + 1) * fold_size if i != k-1 else n\n",
    "    \n",
    "    X_test, y_test = X[start:end], y[start:end]\n",
    "    X_train = np.concatenate([X[:start], X[end:]])\n",
    "    y_train = np.concatenate([y[:start], y[end:]])\n",
    "    \n",
    "    lr = LinearRegression()\n",
    "    lr.fit(X_train, y_train)\n",
    "\n",
    "    y_true = lr.predict(X_test)\n",
    "    y_pred.append(y_true)\n",
    "\n",
    "    mse_i = mean_squared_error(y_true, y_test)\n",
    "    mse.append(mse_i)\n",
    "\n",
    "    mse_mean = np.mean(mse)\n",
    "    mse_std  = np.std(mse)\n"
   ]
  },
  {
   "cell_type": "code",
   "execution_count": 128,
   "id": "67f6f6ce-e506-49cf-8a96-47d268d67285",
   "metadata": {},
   "outputs": [
    {
     "data": {
      "text/plain": [
       "[0.5590019245025623,\n",
       " 0.5531232970331559,\n",
       " 0.4811612796368581,\n",
       " 0.5742036665176351,\n",
       " 0.48897583781912046,\n",
       " 0.5283881757036826,\n",
       " 0.5511782380280955,\n",
       " 0.4748396129801584,\n",
       " 0.564369220719704,\n",
       " 0.5500253663196308]"
      ]
     },
     "execution_count": 128,
     "metadata": {},
     "output_type": "execute_result"
    }
   ],
   "source": [
    "mse"
   ]
  },
  {
   "cell_type": "code",
   "execution_count": 129,
   "id": "79bfce27-3d60-4554-8580-a451b1597c03",
   "metadata": {},
   "outputs": [
    {
     "data": {
      "text/plain": [
       "np.float64(0.5325266619260602)"
      ]
     },
     "execution_count": 129,
     "metadata": {},
     "output_type": "execute_result"
    }
   ],
   "source": [
    "mse_mean"
   ]
  },
  {
   "cell_type": "code",
   "execution_count": 130,
   "id": "41307459-3c53-448f-aa95-b3401fb881bb",
   "metadata": {},
   "outputs": [
    {
     "data": {
      "text/plain": [
       "np.float64(0.03522806775489557)"
      ]
     },
     "execution_count": 130,
     "metadata": {},
     "output_type": "execute_result"
    }
   ],
   "source": [
    "mse_std"
   ]
  },
  {
   "cell_type": "markdown",
   "id": "34f7098f-a1de-4508-b3ff-af1484561856",
   "metadata": {},
   "source": [
    "Interpreta."
   ]
  },
  {
   "cell_type": "markdown",
   "id": "b7fbaf4d-f62b-46d9-9a35-23fcdd50a8ca",
   "metadata": {},
   "source": []
  },
  {
   "cell_type": "markdown",
   "id": "333c8039-5b38-4835-a523-d4f6f7a7040b",
   "metadata": {},
   "source": []
  },
  {
   "cell_type": "markdown",
   "id": "da5792ac-6d38-4f02-bf10-aeaa0a040d17",
   "metadata": {},
   "source": [
    "## Referencia\n",
    "\n",
    "James, G., Witten, D., Hastie, T., Tibshirani, R.,, Taylor, J. (2023). An Introduction to Statistical Learning with Applications in Python. Cham: Springer. ISBN: 978-3-031-38746-3"
   ]
  }
 ],
 "metadata": {
  "kernelspec": {
   "display_name": "Python 3 (ipykernel)",
   "language": "python",
   "name": "python3"
  },
  "language_info": {
   "codemirror_mode": {
    "name": "ipython",
    "version": 3
   },
   "file_extension": ".py",
   "mimetype": "text/x-python",
   "name": "python",
   "nbconvert_exporter": "python",
   "pygments_lexer": "ipython3",
   "version": "3.13.5"
  }
 },
 "nbformat": 4,
 "nbformat_minor": 5
}
